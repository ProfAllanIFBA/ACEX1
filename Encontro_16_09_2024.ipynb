{
 "cells": [
  {
   "cell_type": "markdown",
   "id": "5c072c98",
   "metadata": {},
   "source": [
    "<center> <img src=\"logo_ifba.jpg\" alt=\"jpg_python\" width=\"100\" height=\"200\"> </center>\n",
    "<br><br>\n",
    "<div align=\"center\"><span style=\"font-size: 26px;\"><strong>ACEX 1: Python e Potencialidades<br></strong></span></div> <br>\n",
    "<center> <img src=\"python_gif.gif\" alt=\"gif_python\" width=\"80\"> </center>"
   ]
  },
  {
   "cell_type": "markdown",
   "id": "48a8035e",
   "metadata": {
    "heading_collapsed": true
   },
   "source": [
    "# Encontro 16-09-2024"
   ]
  },
  {
   "cell_type": "markdown",
   "id": "6238b4d8",
   "metadata": {
    "heading_collapsed": true,
    "hidden": true
   },
   "source": [
    "## 1. Básico de Python"
   ]
  },
  {
   "cell_type": "markdown",
   "id": "f5e4b7d0",
   "metadata": {
    "heading_collapsed": true,
    "hidden": true
   },
   "source": [
    "### 1.1 Armazenando e Imprimindo variáveis"
   ]
  },
  {
   "cell_type": "code",
   "execution_count": null,
   "id": "64399019",
   "metadata": {
    "hidden": true
   },
   "outputs": [],
   "source": [
    "# Entradas\n",
    "a = 1\n",
    "b = 3"
   ]
  },
  {
   "cell_type": "code",
   "execution_count": null,
   "id": "1b0c3190",
   "metadata": {
    "hidden": true
   },
   "outputs": [],
   "source": [
    "# Imprimindo resultados\n",
    "print(c)"
   ]
  },
  {
   "cell_type": "code",
   "execution_count": null,
   "id": "0231eb22",
   "metadata": {
    "hidden": true
   },
   "outputs": [],
   "source": [
    "# Saída não impressa\n",
    "c"
   ]
  },
  {
   "cell_type": "markdown",
   "id": "9ddbd41a",
   "metadata": {
    "heading_collapsed": true,
    "hidden": true
   },
   "source": [
    "### 1.2 Operações Matemáticas Básicas"
   ]
  },
  {
   "cell_type": "code",
   "execution_count": null,
   "id": "c6e6bc91",
   "metadata": {
    "hidden": true
   },
   "outputs": [],
   "source": [
    "# Entradas atribuídas em linha\n",
    "a, b, c, d = 2, 3, -4, 5"
   ]
  },
  {
   "cell_type": "markdown",
   "id": "e51b29b0",
   "metadata": {
    "heading_collapsed": true,
    "hidden": true
   },
   "source": [
    "#### Soma"
   ]
  },
  {
   "cell_type": "code",
   "execution_count": null,
   "id": "9da4f191",
   "metadata": {
    "hidden": true
   },
   "outputs": [],
   "source": [
    "print(a+b)"
   ]
  },
  {
   "cell_type": "markdown",
   "id": "27098773",
   "metadata": {
    "heading_collapsed": true,
    "hidden": true
   },
   "source": [
    "#### Subtração"
   ]
  },
  {
   "cell_type": "code",
   "execution_count": null,
   "id": "0489d9d8",
   "metadata": {
    "hidden": true
   },
   "outputs": [],
   "source": [
    "print(a-b)\n",
    "print(a-c)"
   ]
  },
  {
   "cell_type": "markdown",
   "id": "4099bd65",
   "metadata": {
    "heading_collapsed": true,
    "hidden": true
   },
   "source": [
    "#### Produto"
   ]
  },
  {
   "cell_type": "code",
   "execution_count": null,
   "id": "1f321d36",
   "metadata": {
    "hidden": true
   },
   "outputs": [],
   "source": [
    "print(c*d)"
   ]
  },
  {
   "cell_type": "markdown",
   "id": "0104622c",
   "metadata": {
    "heading_collapsed": true,
    "hidden": true
   },
   "source": [
    "#### Divisão e derivados"
   ]
  },
  {
   "cell_type": "code",
   "execution_count": null,
   "id": "687252f3",
   "metadata": {
    "hidden": true
   },
   "outputs": [],
   "source": [
    "# Divisão\n",
    "print(c/a)\n",
    "print(d/b)"
   ]
  },
  {
   "cell_type": "code",
   "execution_count": null,
   "id": "03c6af3e",
   "metadata": {
    "hidden": true
   },
   "outputs": [],
   "source": [
    "# Potência\n",
    "print(a**b)"
   ]
  },
  {
   "cell_type": "code",
   "execution_count": null,
   "id": "115211d4",
   "metadata": {
    "hidden": true
   },
   "outputs": [],
   "source": [
    "# Quociente da divisão (parte inteira)\n",
    "print(c//a)\n",
    "print(d//b)"
   ]
  },
  {
   "cell_type": "code",
   "execution_count": null,
   "id": "814144f2",
   "metadata": {
    "hidden": true
   },
   "outputs": [],
   "source": [
    "# Resto da divisão\n",
    "print(c%a)\n",
    "print(d%b)"
   ]
  },
  {
   "cell_type": "markdown",
   "id": "3a817241",
   "metadata": {
    "heading_collapsed": true,
    "hidden": true
   },
   "source": [
    "#### Expressão Numérica"
   ]
  },
  {
   "cell_type": "code",
   "execution_count": null,
   "id": "8e4303d8",
   "metadata": {
    "hidden": true
   },
   "outputs": [],
   "source": [
    "a, b, c, d = 2, 3, -4, 5\n",
    "\n",
    "expressao = a**2 + b*c - d/a\n",
    "print(expressao)"
   ]
  },
  {
   "cell_type": "markdown",
   "id": "33ece924",
   "metadata": {
    "heading_collapsed": true,
    "hidden": true
   },
   "source": [
    "### 1.3 Operadores Relacionais"
   ]
  },
  {
   "cell_type": "code",
   "execution_count": null,
   "id": "0e8bff80",
   "metadata": {
    "hidden": true
   },
   "outputs": [],
   "source": [
    "# Entradas\n",
    "a, b, c, d, e = 2, 3, -4, 5, 3"
   ]
  },
  {
   "cell_type": "markdown",
   "id": "4e6462d6",
   "metadata": {
    "heading_collapsed": true,
    "hidden": true
   },
   "source": [
    "#### Desigualdades"
   ]
  },
  {
   "cell_type": "code",
   "execution_count": null,
   "id": "ffe77044",
   "metadata": {
    "hidden": true
   },
   "outputs": [],
   "source": [
    "# Comparações\n",
    "print(a <= b)\n",
    "print(a < c)"
   ]
  },
  {
   "cell_type": "markdown",
   "id": "0d8bbc39",
   "metadata": {
    "heading_collapsed": true,
    "hidden": true
   },
   "source": [
    "#### Igualdade e Diferença"
   ]
  },
  {
   "cell_type": "code",
   "execution_count": null,
   "id": "07e8a3b5",
   "metadata": {
    "hidden": true
   },
   "outputs": [],
   "source": [
    "# Comparações\n",
    "print(a == e)\n",
    "print(a != d)\n",
    "print(a**2 + 5*b > c**2)"
   ]
  },
  {
   "cell_type": "markdown",
   "id": "f17db552",
   "metadata": {
    "heading_collapsed": true,
    "hidden": true
   },
   "source": [
    "### 1.4 Operadores Lógicos"
   ]
  },
  {
   "cell_type": "markdown",
   "id": "93c45b6f",
   "metadata": {
    "hidden": true
   },
   "source": [
    "Seguem as tabelas lógicas da conjunção negação **not**, **and** e disjunção **or**:\n",
    "$$\n",
    "\\begin{array}{|c|c|c|c|c|}\n",
    "\\hline\n",
    "p\t        & \t not \\,\\, p \\\\\n",
    "\\hline\n",
    " True  \t\t& \t False   \t\\\\\n",
    " False  \t& \t True  \t\\\\\n",
    "\\hline\n",
    "\\end{array} \\,\\,\\,\n",
    "\\begin{array}{|c|c|c|c|c|}\n",
    "\\hline\n",
    "p\t        & \t q   \t    & p \\,\\, and \\,\\, q   \\\\\n",
    "\\hline\n",
    " True  \t\t& \t True   \t& True   \t\\\\\n",
    " True \t\t& \t False   \t& False\t    \\\\\n",
    " False  \t& \t True   \t& False  \t\\\\\n",
    " False  \t& \t False   \t& False    \t\\\\\n",
    "\\hline\n",
    "\\end{array} \\,\\,\\,\n",
    "\\begin{array}{|c|c|c|c|c|}\n",
    "\\hline\n",
    "p\t        & \t q   \t    & p \\,\\, or \\,\\, q   \\\\\n",
    "\\hline\n",
    " True  \t\t& \t True   \t& True   \t\\\\\n",
    " True \t\t& \t False   \t& True\t    \\\\\n",
    " False  \t& \t True   \t& True  \t\\\\\n",
    " False  \t& \t False   \t& False    \t\\\\\n",
    "\\hline\n",
    "\\end{array}\n",
    "$$"
   ]
  },
  {
   "cell_type": "code",
   "execution_count": null,
   "id": "1acc780d",
   "metadata": {
    "hidden": true
   },
   "outputs": [],
   "source": [
    "# Entradas\n",
    "a, b = 2, -3"
   ]
  },
  {
   "cell_type": "code",
   "execution_count": null,
   "id": "4cecbfbb",
   "metadata": {
    "hidden": true
   },
   "outputs": [],
   "source": [
    "# Proposição 1\n",
    "proposicao1 = (a>b) and (a>b+1)\n",
    "print(proposicao1)"
   ]
  },
  {
   "cell_type": "code",
   "execution_count": null,
   "id": "a3aa7b33",
   "metadata": {
    "hidden": true
   },
   "outputs": [],
   "source": [
    "# Proposição 2\n",
    "proposicao2 = (a<b) or (a>b+1)\n",
    "print(proposicao2)"
   ]
  },
  {
   "cell_type": "code",
   "execution_count": null,
   "id": "2211878c",
   "metadata": {
    "hidden": true
   },
   "outputs": [],
   "source": [
    "# Proposição 3\n",
    "proposicao3 = (a<b) or (a**2<b)\n",
    "print(proposicao3)"
   ]
  },
  {
   "cell_type": "markdown",
   "id": "517908d8",
   "metadata": {
    "heading_collapsed": true,
    "hidden": true
   },
   "source": [
    "### 1.5 Tipos de Dados"
   ]
  },
  {
   "cell_type": "markdown",
   "id": "214430fb",
   "metadata": {
    "heading_collapsed": true,
    "hidden": true
   },
   "source": [
    "#### Inteiro (int)"
   ]
  },
  {
   "cell_type": "code",
   "execution_count": null,
   "id": "a45d31c5",
   "metadata": {
    "hidden": true
   },
   "outputs": [],
   "source": [
    "a = 1"
   ]
  },
  {
   "cell_type": "code",
   "execution_count": null,
   "id": "9b23a0f2",
   "metadata": {
    "hidden": true
   },
   "outputs": [],
   "source": [
    "print(type(a))"
   ]
  },
  {
   "cell_type": "markdown",
   "id": "a072f013",
   "metadata": {
    "heading_collapsed": true,
    "hidden": true
   },
   "source": [
    "#### Float (float)"
   ]
  },
  {
   "cell_type": "code",
   "execution_count": null,
   "id": "4ccc543c",
   "metadata": {
    "hidden": true
   },
   "outputs": [],
   "source": [
    "b = 2.5\n",
    "c = 5/3"
   ]
  },
  {
   "cell_type": "code",
   "execution_count": null,
   "id": "9eb69b38",
   "metadata": {
    "hidden": true
   },
   "outputs": [],
   "source": [
    "print(type(b))\n",
    "print(type(c))"
   ]
  },
  {
   "cell_type": "markdown",
   "id": "ad61294b",
   "metadata": {
    "heading_collapsed": true,
    "hidden": true
   },
   "source": [
    "#### Booelanos (bool)"
   ]
  },
  {
   "cell_type": "code",
   "execution_count": null,
   "id": "e41c679a",
   "metadata": {
    "hidden": true
   },
   "outputs": [],
   "source": [
    "# Booelanos\n",
    "d = True\n",
    "e = False"
   ]
  },
  {
   "cell_type": "code",
   "execution_count": null,
   "id": "67a25e2b",
   "metadata": {
    "hidden": true
   },
   "outputs": [],
   "source": [
    "print(type(d),type(e))"
   ]
  },
  {
   "cell_type": "code",
   "execution_count": null,
   "id": "5cd18ebf",
   "metadata": {
    "hidden": true
   },
   "outputs": [],
   "source": [
    "print(d and e)"
   ]
  },
  {
   "cell_type": "markdown",
   "id": "66bf28f8",
   "metadata": {
    "heading_collapsed": true,
    "hidden": true
   },
   "source": [
    "#### String (str)"
   ]
  },
  {
   "cell_type": "code",
   "execution_count": null,
   "id": "f8671135",
   "metadata": {
    "hidden": true
   },
   "outputs": [],
   "source": [
    "nome = 'Allan'"
   ]
  },
  {
   "cell_type": "code",
   "execution_count": null,
   "id": "98155309",
   "metadata": {
    "hidden": true
   },
   "outputs": [],
   "source": [
    "print(type(nome))"
   ]
  },
  {
   "cell_type": "code",
   "execution_count": null,
   "id": "f320af90",
   "metadata": {
    "hidden": true
   },
   "outputs": [],
   "source": [
    "print(nome)"
   ]
  },
  {
   "cell_type": "code",
   "execution_count": null,
   "id": "efe47005",
   "metadata": {
    "hidden": true
   },
   "outputs": [],
   "source": [
    "print(nome[4])"
   ]
  },
  {
   "cell_type": "markdown",
   "id": "652cf487",
   "metadata": {
    "heading_collapsed": true,
    "hidden": true
   },
   "source": [
    "#### Conjunto (set)"
   ]
  },
  {
   "cell_type": "code",
   "execution_count": null,
   "id": "72bf63ad",
   "metadata": {
    "hidden": true
   },
   "outputs": [],
   "source": [
    "A = {1,2,3}\n",
    "B = {1,4}"
   ]
  },
  {
   "cell_type": "code",
   "execution_count": null,
   "id": "6544a825",
   "metadata": {
    "hidden": true
   },
   "outputs": [],
   "source": [
    "print(type(A))"
   ]
  },
  {
   "cell_type": "code",
   "execution_count": null,
   "id": "9ee8f991",
   "metadata": {
    "hidden": true
   },
   "outputs": [],
   "source": [
    "print(A | B) # Intesecção\n",
    "print(A & B) # União\n",
    "print(A - B) # Diferença"
   ]
  },
  {
   "cell_type": "markdown",
   "id": "fbe4f461",
   "metadata": {
    "heading_collapsed": true,
    "hidden": true
   },
   "source": [
    "#### Lista (list)"
   ]
  },
  {
   "cell_type": "code",
   "execution_count": null,
   "id": "f461e64c",
   "metadata": {
    "hidden": true
   },
   "outputs": [],
   "source": [
    "# Listas\n",
    "idades = [10,12,11,15]\n",
    "nomes = ['Allan', 'Lara', 'Isis', 'Daniela', 'Eduardo']"
   ]
  },
  {
   "cell_type": "code",
   "execution_count": null,
   "id": "44ae9119",
   "metadata": {
    "hidden": true
   },
   "outputs": [],
   "source": [
    "print(type(idades))\n",
    "print(type(nomes))"
   ]
  },
  {
   "cell_type": "code",
   "execution_count": null,
   "id": "4642083d",
   "metadata": {
    "hidden": true
   },
   "outputs": [],
   "source": [
    "print(nomes)\n",
    "print(nomes[2])"
   ]
  },
  {
   "cell_type": "code",
   "execution_count": null,
   "id": "8340cfac",
   "metadata": {
    "hidden": true
   },
   "outputs": [],
   "source": [
    "nomes.append('Duda')"
   ]
  },
  {
   "cell_type": "code",
   "execution_count": null,
   "id": "298bfede",
   "metadata": {
    "hidden": true
   },
   "outputs": [],
   "source": [
    "print(nomes)"
   ]
  },
  {
   "cell_type": "markdown",
   "id": "12e109ff",
   "metadata": {
    "heading_collapsed": true,
    "hidden": true
   },
   "source": [
    "#### Tupla (tuple)"
   ]
  },
  {
   "cell_type": "code",
   "execution_count": null,
   "id": "1567c5e7",
   "metadata": {
    "hidden": true
   },
   "outputs": [],
   "source": [
    "# Tuplas\n",
    "medidas = (1.70,70.0,41) #por exemplo altura, peso e idade"
   ]
  },
  {
   "cell_type": "code",
   "execution_count": null,
   "id": "7bab4a55",
   "metadata": {
    "hidden": true
   },
   "outputs": [],
   "source": [
    "print(type(medidas))"
   ]
  },
  {
   "cell_type": "code",
   "execution_count": null,
   "id": "87333b08",
   "metadata": {
    "hidden": true
   },
   "outputs": [],
   "source": [
    "print(medidas)\n",
    "print(medidas[1])"
   ]
  },
  {
   "cell_type": "code",
   "execution_count": null,
   "id": "cf7ac92f",
   "metadata": {
    "hidden": true
   },
   "outputs": [],
   "source": [
    "medidas.append(31)"
   ]
  },
  {
   "cell_type": "markdown",
   "id": "c79737ad",
   "metadata": {
    "heading_collapsed": true,
    "hidden": true
   },
   "source": [
    "#### Dicionário (dict)"
   ]
  },
  {
   "cell_type": "code",
   "execution_count": null,
   "id": "df4f9f94",
   "metadata": {
    "hidden": true
   },
   "outputs": [],
   "source": [
    "nome_idade = {'Allan': 40, 'Daniela': 31, 'Lara': 22, 'Isis': 0, 'Eduardo': 0}"
   ]
  },
  {
   "cell_type": "code",
   "execution_count": null,
   "id": "cea85580",
   "metadata": {
    "hidden": true
   },
   "outputs": [],
   "source": [
    "print(type(nome_idade))"
   ]
  },
  {
   "cell_type": "code",
   "execution_count": null,
   "id": "7d3f71e7",
   "metadata": {
    "hidden": true
   },
   "outputs": [],
   "source": [
    "print(nome_idade)"
   ]
  },
  {
   "cell_type": "code",
   "execution_count": null,
   "id": "2e2e06ba",
   "metadata": {
    "hidden": true
   },
   "outputs": [],
   "source": [
    "print(nome_idade.keys())\n",
    "print(nome_idade.values())"
   ]
  },
  {
   "cell_type": "code",
   "execution_count": null,
   "id": "b2b75d6b",
   "metadata": {
    "hidden": true
   },
   "outputs": [],
   "source": [
    "nome_idade['Allan'] = 41"
   ]
  },
  {
   "cell_type": "code",
   "execution_count": null,
   "id": "9cd7518b",
   "metadata": {
    "hidden": true
   },
   "outputs": [],
   "source": [
    "print(nome_idade)"
   ]
  },
  {
   "cell_type": "code",
   "execution_count": null,
   "id": "c74c7eed",
   "metadata": {
    "hidden": true
   },
   "outputs": [],
   "source": [
    "nome_idade['Henry'] = 3"
   ]
  },
  {
   "cell_type": "code",
   "execution_count": null,
   "id": "3cb9c539",
   "metadata": {
    "hidden": true
   },
   "outputs": [],
   "source": [
    "print(nome_idade)"
   ]
  },
  {
   "cell_type": "markdown",
   "id": "496369e8",
   "metadata": {
    "heading_collapsed": true,
    "hidden": true
   },
   "source": [
    "### 1.6 Estruturas de Controle e de Fluxo"
   ]
  },
  {
   "cell_type": "markdown",
   "id": "52bbb80d",
   "metadata": {
    "heading_collapsed": true,
    "hidden": true
   },
   "source": [
    "#### IF"
   ]
  },
  {
   "cell_type": "code",
   "execution_count": null,
   "id": "bec67c7e",
   "metadata": {
    "hidden": true
   },
   "outputs": [],
   "source": [
    "# Dados\n",
    "a = 2\n",
    "b = 1\n",
    "c = 3"
   ]
  },
  {
   "cell_type": "code",
   "execution_count": null,
   "id": "1db75ba9",
   "metadata": {
    "hidden": true
   },
   "outputs": [],
   "source": [
    "if a > b:\n",
    "    print('a é maior que b.')"
   ]
  },
  {
   "cell_type": "code",
   "execution_count": null,
   "id": "7174428a",
   "metadata": {
    "hidden": true
   },
   "outputs": [],
   "source": [
    "if a < b:\n",
    "    print('a é menor que b.')\n",
    "else:\n",
    "    print('a é maior ou igual a b')\n",
    "    "
   ]
  },
  {
   "cell_type": "code",
   "execution_count": null,
   "id": "8625026c",
   "metadata": {
    "hidden": true
   },
   "outputs": [],
   "source": [
    "idade = 70\n",
    "\n",
    "if idade < 16:\n",
    "    print('Não pode votar.')\n",
    "elif idade >= 16 and idade <18:\n",
    "    print('Voto opcional.')\n",
    "elif idade >= 18 and idade < 70:\n",
    "    print('Voto obrigatório.')\n",
    "else:\n",
    "    print('Voto opcional.')\n",
    "    "
   ]
  },
  {
   "cell_type": "markdown",
   "id": "c9986f56",
   "metadata": {
    "heading_collapsed": true,
    "hidden": true
   },
   "source": [
    "#### For"
   ]
  },
  {
   "cell_type": "code",
   "execution_count": null,
   "id": "c66ae5dc",
   "metadata": {
    "hidden": true
   },
   "outputs": [],
   "source": [
    "for x in range(1,11):\n",
    "    print(x)"
   ]
  },
  {
   "cell_type": "code",
   "execution_count": null,
   "id": "ac0daa98",
   "metadata": {
    "hidden": true
   },
   "outputs": [],
   "source": [
    "for x in 'Allan':\n",
    "    print(x)"
   ]
  },
  {
   "cell_type": "markdown",
   "id": "0c392495",
   "metadata": {
    "heading_collapsed": true,
    "hidden": true
   },
   "source": [
    "#### While"
   ]
  },
  {
   "cell_type": "code",
   "execution_count": null,
   "id": "89ee2689",
   "metadata": {
    "hidden": true
   },
   "outputs": [],
   "source": [
    "# while\n",
    "\n",
    "a = 1\n",
    "b = 10\n",
    "\n",
    "while a < b:\n",
    "    print(a**2)\n",
    "    a = a + 2"
   ]
  },
  {
   "cell_type": "markdown",
   "id": "e6265c11",
   "metadata": {
    "heading_collapsed": true,
    "hidden": true
   },
   "source": [
    "### 1.7 Funções"
   ]
  },
  {
   "cell_type": "code",
   "execution_count": null,
   "id": "d95cd737",
   "metadata": {
    "hidden": true
   },
   "outputs": [],
   "source": [
    "# Definindo uma função\n",
    "def f(x):\n",
    "    return x**2"
   ]
  },
  {
   "cell_type": "code",
   "execution_count": null,
   "id": "cd415a15",
   "metadata": {
    "hidden": true
   },
   "outputs": [],
   "source": [
    "f(2)"
   ]
  },
  {
   "cell_type": "markdown",
   "id": "6c9b17e8",
   "metadata": {
    "heading_collapsed": true,
    "hidden": true
   },
   "source": [
    "## 2. Avançando ao $\\infty$"
   ]
  },
  {
   "cell_type": "markdown",
   "id": "58d6e973",
   "metadata": {
    "heading_collapsed": true,
    "hidden": true
   },
   "source": [
    "### Trabalhando Com Funções Importadas"
   ]
  },
  {
   "cell_type": "markdown",
   "id": "2f2d6a28",
   "metadata": {
    "heading_collapsed": true,
    "hidden": true
   },
   "source": [
    "#### Funções Trigonométricas"
   ]
  },
  {
   "cell_type": "code",
   "execution_count": null,
   "id": "08fe137c",
   "metadata": {
    "hidden": true
   },
   "outputs": [],
   "source": [
    "# Trabalhando com funções trigonométricas\n",
    "\n",
    "# Módulo contendo diversas funções matemáticas e matrizes\n",
    "import numpy as np\n",
    "\n",
    "valor = np.pi/2\n",
    "print(valor)"
   ]
  },
  {
   "cell_type": "code",
   "execution_count": null,
   "id": "921815bf",
   "metadata": {
    "hidden": true
   },
   "outputs": [],
   "source": [
    "seno = np.sin(np.pi/2)\n",
    "print(seno)"
   ]
  },
  {
   "cell_type": "markdown",
   "id": "a1d79b8d",
   "metadata": {
    "heading_collapsed": true,
    "hidden": true
   },
   "source": [
    "#### Esboços de Gráficos"
   ]
  },
  {
   "cell_type": "code",
   "execution_count": null,
   "id": "bd8b8b79",
   "metadata": {
    "hidden": true
   },
   "outputs": [],
   "source": [
    "# Gráfico de Pontos\n",
    "\n",
    "# Módulo necessário para se trabalhar com gráficos\n",
    "import matplotlib.pyplot as plt\n",
    "\n",
    "x = [1,2,3]\n",
    "y = [1,4,9]\n",
    "\n",
    "plt.plot(x,y,'*')"
   ]
  },
  {
   "cell_type": "code",
   "execution_count": null,
   "id": "6b7a6932",
   "metadata": {
    "hidden": true
   },
   "outputs": [],
   "source": [
    "# Gráfico Contínuo\n",
    "\n",
    "x = np.arange(1,10,0.1)\n",
    "\n",
    "def f(x):\n",
    "    return x**2\n",
    "\n",
    "y = f(x)\n",
    "\n",
    "plt.plot(x,y)"
   ]
  },
  {
   "cell_type": "markdown",
   "id": "799b3d0f",
   "metadata": {
    "heading_collapsed": true,
    "hidden": true
   },
   "source": [
    "### Instalando Pacotes"
   ]
  },
  {
   "cell_type": "markdown",
   "id": "83f1805b",
   "metadata": {
    "heading_collapsed": true,
    "hidden": true
   },
   "source": [
    "#### Gerador de QRcode"
   ]
  },
  {
   "cell_type": "code",
   "execution_count": null,
   "id": "604c7feb",
   "metadata": {
    "hidden": true
   },
   "outputs": [],
   "source": [
    "!pip install qrcode[pil]"
   ]
  },
  {
   "cell_type": "code",
   "execution_count": null,
   "id": "8dd0bf8c",
   "metadata": {
    "hidden": true
   },
   "outputs": [],
   "source": [
    "import qrcode\n",
    "from PIL import Image\n",
    "\n",
    "# Dados para o QR Code\n",
    "data = \"https://www.youtube.com/@prof_allanIFBA\"\n",
    "\n",
    "# Gerar o QR Code\n",
    "qr = qrcode.QRCode(\n",
    "    version=1,  # Controle do tamanho do QR Code: quanto maior o número, maior o código\n",
    "    error_correction=qrcode.constants.ERROR_CORRECT_L,  # Controle de correção de erro\n",
    "    box_size=10,  # Tamanho de cada quadrado do QR Code\n",
    "    border=1,  # Tamanho da borda (em quadrados)\n",
    ")\n",
    "qr.add_data(data)\n",
    "qr.make(fit=True)\n",
    "\n",
    "# Criar a imagem do QR Code\n",
    "img = qr.make_image(fill_color=\"black\", back_color=\"white\")\n",
    "\n",
    "# Salvar a imagem\n",
    "img.save(\"QRCode.png\")\n",
    "\n",
    "# Exibir a imagem\n",
    "img.show()"
   ]
  },
  {
   "cell_type": "markdown",
   "id": "a29a11de",
   "metadata": {
    "heading_collapsed": true,
    "hidden": true
   },
   "source": [
    "## 3. Procedimentos Técnicos"
   ]
  },
  {
   "cell_type": "markdown",
   "id": "c13ca004",
   "metadata": {
    "heading_collapsed": true,
    "hidden": true
   },
   "source": [
    "### Ideia..."
   ]
  },
  {
   "cell_type": "markdown",
   "id": "357606e3",
   "metadata": {
    "hidden": true
   },
   "source": [
    "Em um mesmo conjunto de datas se propõe um \"Mês de Python\" com atividades desenvolvidas por cada um dos grupos. Isso possibilitará fazer uma divulgação mais condensada. Em princípio, cada grupo poderá fazer sua divulgação de forma individual, mas a ocorrência das atividades numa mesma data facilita a comunição por meio dos canais disponíveis no ifba além de dar corpo aos trabalhos. Uma sugestão seria dezembro para não ficar muito encima do fim do semestre."
   ]
  },
  {
   "cell_type": "markdown",
   "id": "9a108e0a",
   "metadata": {
    "heading_collapsed": true,
    "hidden": true
   },
   "source": [
    "### Computação de Horas"
   ]
  },
  {
   "cell_type": "markdown",
   "id": "6020866a",
   "metadata": {
    "hidden": true
   },
   "source": [
    "- Minicurso: para cada hora de execução conta-se 2 horas de atividade ACEX (sugiro 20-25 horas)\n",
    "- Vídeos: Para cada hora de duração conta-se 2 horas de atividades ACEX. Nesse caso é necessário haver alguma edição com logomarca do IFBA, COEXT etc.\n",
    "- Produção de material didático postado no GitHub a ser usado nas atividades descritas acima (é necessário ter certo nível de qualidade): 1 hora para cada hora de atividade.\n",
    "- Visitas em escolas (comprovação por fotos etc): Cada uma valeria 2 horas, com um máximo de 10 horas.\n",
    "\n",
    "Por exemplo, um minicurso ou mais minicursos totalizando 20 horas seria computado como 40. Caso haja o material disponível ganha-se mais 20 horas. Portanto, um total de $60$ horas. Um curso de 25 horas poderia contar um total de 75 horas.\n",
    "\n",
    "**Meta**: <u>Serão necessárias pelo menos 90 horas</u> uma vez que as atividades são divididas por $4$ mas a carga horária serve para todos.\n",
    "\n",
    "**Fator Crucial**: A extensão, em princípio, na forma de minicurso, tem que ocorrer!\n"
   ]
  }
 ],
 "metadata": {
  "kernelspec": {
   "display_name": "Python 3 (ipykernel)",
   "language": "python",
   "name": "python3"
  },
  "language_info": {
   "codemirror_mode": {
    "name": "ipython",
    "version": 3
   },
   "file_extension": ".py",
   "mimetype": "text/x-python",
   "name": "python",
   "nbconvert_exporter": "python",
   "pygments_lexer": "ipython3",
   "version": "3.11.5"
  }
 },
 "nbformat": 4,
 "nbformat_minor": 5
}
