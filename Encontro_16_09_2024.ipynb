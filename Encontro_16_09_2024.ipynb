{
 "cells": [
  {
   "cell_type": "markdown",
   "id": "d64e6f41",
   "metadata": {},
   "source": [
    "<center> <img src=\"logo_ifba.jpg\" alt=\"jpg_python\" width=\"100\" height=\"200\"> </center>\n",
    "<br><br>\n",
    "<div align=\"center\"><span style=\"font-size: 26px;\"><strong>ACEX 1: Python e Potencialidades<br></strong></span></div> <br>\n",
    "<center> <img src=\"python_gif.gif\" alt=\"gif_python\" width=\"80\"> </center>"
   ]
  },
  {
   "cell_type": "markdown",
   "id": "91bd8eb9",
   "metadata": {},
   "source": [
    "# 1. O Básico de Python"
   ]
  },
  {
   "cell_type": "markdown",
   "id": "20343968",
   "metadata": {},
   "source": [
    "## 1.1 Armazenando, Operando e Imprimindo Resultados"
   ]
  },
  {
   "cell_type": "code",
   "execution_count": 2,
   "id": "369d6142",
   "metadata": {},
   "outputs": [],
   "source": [
    "# Entradas\n",
    "a = 1\n",
    "b = 3"
   ]
  },
  {
   "cell_type": "code",
   "execution_count": 3,
   "id": "68ad7715",
   "metadata": {},
   "outputs": [],
   "source": [
    "# Operação (soma) e armazenamento\n",
    "c = a + b"
   ]
  },
  {
   "cell_type": "code",
   "execution_count": 4,
   "id": "e90d99f3",
   "metadata": {},
   "outputs": [
    {
     "name": "stdout",
     "output_type": "stream",
     "text": [
      "4\n"
     ]
    }
   ],
   "source": [
    "# Imprimindo resultados\n",
    "print(c)"
   ]
  },
  {
   "cell_type": "code",
   "execution_count": 5,
   "id": "7377e7bb",
   "metadata": {},
   "outputs": [
    {
     "data": {
      "text/plain": [
       "4"
      ]
     },
     "execution_count": 5,
     "metadata": {},
     "output_type": "execute_result"
    }
   ],
   "source": [
    "# Saída não impressa\n",
    "c"
   ]
  },
  {
   "cell_type": "markdown",
   "id": "ae851100",
   "metadata": {},
   "source": [
    "## 1.2 Operações Matemáticas Básicas"
   ]
  },
  {
   "cell_type": "code",
   "execution_count": 6,
   "id": "46917ded",
   "metadata": {},
   "outputs": [],
   "source": [
    "# Entradas atribuídas em linha\n",
    "a, b, c, d = 2, 3, -4, 5"
   ]
  },
  {
   "cell_type": "code",
   "execution_count": 7,
   "id": "c0e3e1b3",
   "metadata": {},
   "outputs": [
    {
     "name": "stdout",
     "output_type": "stream",
     "text": [
      "5\n"
     ]
    }
   ],
   "source": [
    "# Soma\n",
    "print(a+b)"
   ]
  },
  {
   "cell_type": "code",
   "execution_count": 8,
   "id": "cf02a3c6",
   "metadata": {},
   "outputs": [
    {
     "name": "stdout",
     "output_type": "stream",
     "text": [
      "-1\n",
      "6\n"
     ]
    }
   ],
   "source": [
    "# Subtração\n",
    "print(a-b)\n",
    "print(a-c)"
   ]
  },
  {
   "cell_type": "code",
   "execution_count": 9,
   "id": "d3ff841a",
   "metadata": {},
   "outputs": [
    {
     "name": "stdout",
     "output_type": "stream",
     "text": [
      "-20\n"
     ]
    }
   ],
   "source": [
    "# Produto\n",
    "print(c*d)"
   ]
  },
  {
   "cell_type": "code",
   "execution_count": 10,
   "id": "4f5bb086",
   "metadata": {},
   "outputs": [
    {
     "name": "stdout",
     "output_type": "stream",
     "text": [
      "-2.0\n",
      "1.6666666666666667\n"
     ]
    }
   ],
   "source": [
    "# Divisão\n",
    "print(c/a)\n",
    "print(d/b)"
   ]
  },
  {
   "cell_type": "code",
   "execution_count": 11,
   "id": "22409b5c",
   "metadata": {},
   "outputs": [
    {
     "name": "stdout",
     "output_type": "stream",
     "text": [
      "8\n"
     ]
    }
   ],
   "source": [
    "# Potência\n",
    "print(a**b)"
   ]
  },
  {
   "cell_type": "code",
   "execution_count": 12,
   "id": "8c1bb34c",
   "metadata": {},
   "outputs": [
    {
     "name": "stdout",
     "output_type": "stream",
     "text": [
      "-2\n",
      "1\n"
     ]
    }
   ],
   "source": [
    "# Quociente da divisão (parte inteira)\n",
    "print(c//a)\n",
    "print(d//b)"
   ]
  },
  {
   "cell_type": "code",
   "execution_count": 13,
   "id": "8fd23102",
   "metadata": {},
   "outputs": [
    {
     "name": "stdout",
     "output_type": "stream",
     "text": [
      "0\n",
      "2\n"
     ]
    }
   ],
   "source": [
    "# Resto da divisão\n",
    "print(c%a)\n",
    "print(d%b)"
   ]
  },
  {
   "cell_type": "markdown",
   "id": "edd210bd",
   "metadata": {},
   "source": [
    "## 1.3 Operadores Relacionais"
   ]
  },
  {
   "cell_type": "code",
   "execution_count": 15,
   "id": "777df06e",
   "metadata": {},
   "outputs": [],
   "source": [
    "# Entradas\n",
    "a, b, c, d, e = 2, 3, -4, 5, 3"
   ]
  },
  {
   "cell_type": "code",
   "execution_count": 17,
   "id": "58c8a6c1",
   "metadata": {},
   "outputs": [
    {
     "name": "stdout",
     "output_type": "stream",
     "text": [
      "True\n",
      "False\n",
      "False\n",
      "True\n",
      "True\n"
     ]
    }
   ],
   "source": [
    "# Comparações\n",
    "print(a <= b)\n",
    "print(a < c)\n",
    "print(a == e)\n",
    "print(a != d)\n",
    "print(a**2 + 5*b > c**2)"
   ]
  },
  {
   "cell_type": "markdown",
   "id": "1d1fac7d",
   "metadata": {},
   "source": [
    "## 1.4 Operadores Lógicos"
   ]
  },
  {
   "cell_type": "markdown",
   "id": "018e0607",
   "metadata": {},
   "source": [
    "Seguem as tabelas lógicas da conjunção negação **not**, **and** e disjunção **or**:\n",
    "$$\n",
    "\\begin{array}{|c|c|c|c|c|}\n",
    "\\hline\n",
    "p\t        & \t not \\,\\, p \\\\\n",
    "\\hline\n",
    " True  \t\t& \t False   \t\\\\\n",
    " False  \t& \t True  \t\\\\\n",
    "\\hline\n",
    "\\end{array} \\,\\,\\,\n",
    "\\begin{array}{|c|c|c|c|c|}\n",
    "\\hline\n",
    "p\t        & \t q   \t    & p \\,\\, and \\,\\, q   \\\\\n",
    "\\hline\n",
    " True  \t\t& \t True   \t& True   \t\\\\\n",
    " True \t\t& \t False   \t& False\t    \\\\\n",
    " False  \t& \t True   \t& False  \t\\\\\n",
    " False  \t& \t False   \t& False    \t\\\\\n",
    "\\hline\n",
    "\\end{array} \\,\\,\\,\n",
    "\\begin{array}{|c|c|c|c|c|}\n",
    "\\hline\n",
    "p\t        & \t q   \t    & p \\,\\, or \\,\\, q   \\\\\n",
    "\\hline\n",
    " True  \t\t& \t True   \t& True   \t\\\\\n",
    " True \t\t& \t False   \t& True\t    \\\\\n",
    " False  \t& \t True   \t& True  \t\\\\\n",
    " False  \t& \t False   \t& False    \t\\\\\n",
    "\\hline\n",
    "\\end{array}\n",
    "$$"
   ]
  },
  {
   "cell_type": "code",
   "execution_count": 22,
   "id": "c955f58d",
   "metadata": {},
   "outputs": [],
   "source": [
    "# Entradas\n",
    "a, b = 2, -3"
   ]
  },
  {
   "cell_type": "code",
   "execution_count": 23,
   "id": "2426e30d",
   "metadata": {},
   "outputs": [
    {
     "name": "stdout",
     "output_type": "stream",
     "text": [
      "True\n"
     ]
    }
   ],
   "source": [
    "# Proposição 1\n",
    "proposicao1 = (a>b) and (a>b+1)\n",
    "print(proposicao1)"
   ]
  },
  {
   "cell_type": "code",
   "execution_count": 25,
   "id": "f706a54c",
   "metadata": {},
   "outputs": [
    {
     "name": "stdout",
     "output_type": "stream",
     "text": [
      "True\n"
     ]
    }
   ],
   "source": [
    "# Proposição 2\n",
    "proposicao2 = (a<b) or (a>b+1)\n",
    "print(proposicao2)"
   ]
  },
  {
   "cell_type": "code",
   "execution_count": 26,
   "id": "3b25c633",
   "metadata": {},
   "outputs": [
    {
     "name": "stdout",
     "output_type": "stream",
     "text": [
      "False\n"
     ]
    }
   ],
   "source": [
    "# Proposição 3\n",
    "proposicao3 = (a<b) or (a**2<b)\n",
    "print(proposicao3)"
   ]
  },
  {
   "cell_type": "markdown",
   "id": "d02b46d3",
   "metadata": {},
   "source": [
    "## 1.5 Tipos de Dados"
   ]
  },
  {
   "cell_type": "code",
   "execution_count": 27,
   "id": "3695cb5c",
   "metadata": {},
   "outputs": [
    {
     "name": "stdout",
     "output_type": "stream",
     "text": [
      "<class 'int'>\n"
     ]
    }
   ],
   "source": [
    "# Inteiros\n",
    "a = 1\n",
    "print(type(a))"
   ]
  },
  {
   "cell_type": "code",
   "execution_count": 28,
   "id": "0ba37d17",
   "metadata": {},
   "outputs": [
    {
     "name": "stdout",
     "output_type": "stream",
     "text": [
      "<class 'float'>\n",
      "<class 'float'>\n"
     ]
    }
   ],
   "source": [
    "# Floats\n",
    "b = 2.5\n",
    "c = 5/3\n",
    "print(type(b))\n",
    "print(type(c))"
   ]
  },
  {
   "cell_type": "code",
   "execution_count": 33,
   "id": "74610c0c",
   "metadata": {},
   "outputs": [
    {
     "name": "stdout",
     "output_type": "stream",
     "text": [
      "<class 'bool'> <class 'bool'>\n"
     ]
    }
   ],
   "source": [
    "# Booelanos\n",
    "d = True\n",
    "e = False\n",
    "print(type(d),type(e))"
   ]
  },
  {
   "cell_type": "code",
   "execution_count": 40,
   "id": "f2203c06",
   "metadata": {},
   "outputs": [
    {
     "name": "stdout",
     "output_type": "stream",
     "text": [
      "<class 'str'>\n",
      "Allan\n"
     ]
    }
   ],
   "source": [
    "# Strings\n",
    "nome = 'Allan'\n",
    "\n",
    "print(type(nome))\n",
    "print(nome)"
   ]
  },
  {
   "cell_type": "code",
   "execution_count": 36,
   "id": "11d018e2",
   "metadata": {},
   "outputs": [
    {
     "name": "stdout",
     "output_type": "stream",
     "text": [
      "n\n"
     ]
    }
   ],
   "source": [
    "print(nome[4])"
   ]
  },
  {
   "cell_type": "code",
   "execution_count": 39,
   "id": "57e21a9c",
   "metadata": {},
   "outputs": [
    {
     "name": "stdout",
     "output_type": "stream",
     "text": [
      "<class 'set'>\n",
      "{1, 2, 3, 4}\n",
      "{1}\n",
      "{2, 3}\n"
     ]
    }
   ],
   "source": [
    "# Conjuntos\n",
    "A = {1,2,3}\n",
    "B = {1,4}\n",
    "\n",
    "print(type(A))\n",
    "\n",
    "print(A|B) # Intesecção\n",
    "print(A&B) # União\n",
    "print(A-B) # Diferença"
   ]
  },
  {
   "cell_type": "code",
   "execution_count": 41,
   "id": "844b818e",
   "metadata": {},
   "outputs": [
    {
     "name": "stdout",
     "output_type": "stream",
     "text": [
      "[10, 12, 11, 15]\n",
      "<class 'list'>\n"
     ]
    }
   ],
   "source": [
    "# Listas\n",
    "lista_idades = [10,12,11,15]\n",
    "\n",
    "print(lista_idades)\n",
    "print(type(lista_idades))"
   ]
  },
  {
   "cell_type": "code",
   "execution_count": 43,
   "id": "77e79b82",
   "metadata": {},
   "outputs": [
    {
     "name": "stdout",
     "output_type": "stream",
     "text": [
      "<class 'list'>\n",
      "['Allan', 'Lara', 'Isis', 'Daniela', 'Eduardo']\n",
      "Isis\n"
     ]
    }
   ],
   "source": [
    "nomes = ['Allan', 'Lara', 'Isis', 'Daniela', 'Eduardo']\n",
    "\n",
    "print(type(nomes))\n",
    "\n",
    "print(nomes)\n",
    "print(nomes[2])"
   ]
  },
  {
   "cell_type": "code",
   "execution_count": 44,
   "id": "e1beb691",
   "metadata": {},
   "outputs": [],
   "source": [
    "nomes.append('Duda')"
   ]
  },
  {
   "cell_type": "code",
   "execution_count": 45,
   "id": "dab46c88",
   "metadata": {},
   "outputs": [
    {
     "name": "stdout",
     "output_type": "stream",
     "text": [
      "['Allan', 'Lara', 'Isis', 'Daniela', 'Eduardo', 'Duda']\n"
     ]
    }
   ],
   "source": [
    "print(nomes)"
   ]
  },
  {
   "cell_type": "code",
   "execution_count": 47,
   "id": "ee534619",
   "metadata": {},
   "outputs": [
    {
     "name": "stdout",
     "output_type": "stream",
     "text": [
      "<class 'tuple'>\n",
      "(1.7, 70.0, 41)\n",
      "70.0\n"
     ]
    }
   ],
   "source": [
    "# Tuplas\n",
    "medidas = (1.70,70.0,41)\n",
    "\n",
    "print(type(medidas))\n",
    "\n",
    "print(medidas)\n",
    "print(medidas[1])"
   ]
  },
  {
   "cell_type": "code",
   "execution_count": 53,
   "id": "48b8a166",
   "metadata": {},
   "outputs": [
    {
     "name": "stdout",
     "output_type": "stream",
     "text": [
      "<class 'dict'>\n",
      "dict_keys(['Allan', 'Daniela', 'Lara', 'Isis', 'Eduardo'])\n",
      "dict_values([40, 31, 22, 0, 0])\n"
     ]
    }
   ],
   "source": [
    "# Dicionários\n",
    "\n",
    "nome_idade = {'Allan': 40, 'Daniela': 31, 'Lara': 22, 'Isis': 0, 'Eduardo': 0}\n",
    "\n",
    "print(type(nome_idade))\n",
    "\n",
    "print(nome_idade.keys())\n",
    "print(nome_idade.values())"
   ]
  },
  {
   "cell_type": "markdown",
   "id": "c142446a",
   "metadata": {},
   "source": [
    "# 2. Estruturas de Controle e de Fluxo"
   ]
  },
  {
   "cell_type": "code",
   "execution_count": 54,
   "id": "3d5f02a6",
   "metadata": {},
   "outputs": [
    {
     "name": "stdout",
     "output_type": "stream",
     "text": [
      "a é maior que b.\n"
     ]
    }
   ],
   "source": [
    "# if\n",
    "\n",
    "# Dados\n",
    "a = 2\n",
    "b = 1\n",
    "c = 3\n",
    "\n",
    "if a > b:\n",
    "    print('a é maior que b.')"
   ]
  },
  {
   "cell_type": "code",
   "execution_count": 55,
   "id": "42adb6ee",
   "metadata": {},
   "outputs": [
    {
     "name": "stdout",
     "output_type": "stream",
     "text": [
      "a é maior ou igual a b\n"
     ]
    }
   ],
   "source": [
    "if a < b:\n",
    "    print('a é menor que b.')\n",
    "else:\n",
    "    print('a é maior ou igual a b')\n",
    "    "
   ]
  },
  {
   "cell_type": "code",
   "execution_count": 59,
   "id": "97b16dba",
   "metadata": {},
   "outputs": [
    {
     "name": "stdout",
     "output_type": "stream",
     "text": [
      "Voto opcional.\n"
     ]
    }
   ],
   "source": [
    "idade = 70\n",
    "\n",
    "if idade < 16:\n",
    "    print('Não pode votar.')\n",
    "elif idade >= 16 and idade <18:\n",
    "    print('Voto opcional.')\n",
    "elif idade >= 18 and idade < 70:\n",
    "    print('Voto obrigatório.')\n",
    "else:\n",
    "    print('Voto opcional.')\n",
    "    "
   ]
  },
  {
   "cell_type": "code",
   "execution_count": 60,
   "id": "b5c4bb37",
   "metadata": {},
   "outputs": [
    {
     "name": "stdout",
     "output_type": "stream",
     "text": [
      "1\n",
      "2\n",
      "3\n",
      "4\n",
      "5\n",
      "6\n",
      "7\n",
      "8\n",
      "9\n",
      "10\n"
     ]
    }
   ],
   "source": [
    "# for\n",
    "\n",
    "for x in range(1,11):\n",
    "    print(x)"
   ]
  },
  {
   "cell_type": "code",
   "execution_count": 61,
   "id": "94465469",
   "metadata": {},
   "outputs": [
    {
     "name": "stdout",
     "output_type": "stream",
     "text": [
      "A\n",
      "l\n",
      "l\n",
      "a\n",
      "n\n"
     ]
    }
   ],
   "source": [
    "for x in 'Allan':\n",
    "    print(x)"
   ]
  },
  {
   "cell_type": "code",
   "execution_count": 62,
   "id": "3acc9d14",
   "metadata": {},
   "outputs": [
    {
     "name": "stdout",
     "output_type": "stream",
     "text": [
      "1\n",
      "9\n",
      "25\n",
      "49\n",
      "81\n"
     ]
    }
   ],
   "source": [
    "# while\n",
    "\n",
    "a = 1\n",
    "b = 10\n",
    "\n",
    "while a < b:\n",
    "    print(a**2)\n",
    "    a = a + 2"
   ]
  },
  {
   "cell_type": "markdown",
   "id": "b61c7e3d",
   "metadata": {},
   "source": [
    "# 3. Avançando..."
   ]
  }
 ],
 "metadata": {
  "kernelspec": {
   "display_name": "Python 3 (ipykernel)",
   "language": "python",
   "name": "python3"
  },
  "language_info": {
   "codemirror_mode": {
    "name": "ipython",
    "version": 3
   },
   "file_extension": ".py",
   "mimetype": "text/x-python",
   "name": "python",
   "nbconvert_exporter": "python",
   "pygments_lexer": "ipython3",
   "version": "3.11.5"
  }
 },
 "nbformat": 4,
 "nbformat_minor": 5
}
